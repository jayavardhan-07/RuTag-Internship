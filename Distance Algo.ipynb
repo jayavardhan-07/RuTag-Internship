{
 "cells": [
  {
   "cell_type": "code",
   "execution_count": 5,
   "metadata": {
    "id": "JkQuIQtzETZU"
   },
   "outputs": [],
   "source": [
    "import pandas as pd\n",
    "import numpy as np"
   ]
  },
  {
   "cell_type": "code",
   "execution_count": 6,
   "metadata": {
    "id": "53tt6XmsEjNH"
   },
   "outputs": [],
   "source": [
    "df = pd.read_csv(\"D:\\Datasets\\parkinsons.csv\")"
   ]
  },
  {
   "cell_type": "code",
   "execution_count": 7,
   "metadata": {
    "id": "tcc1NOHkADg5"
   },
   "outputs": [],
   "source": [
    "from scipy.spatial.distance import euclidean\n",
    "def sort_array_by_distance(array, reference_vector):\n",
    "    distances = np.array([euclidean(vec, reference_vector) for vec in array])\n",
    "    sorted_indices = np.argsort(distances)\n",
    "    sorted_array = array[sorted_indices]\n",
    "    return sorted_array"
   ]
  },
  {
   "cell_type": "code",
   "execution_count": 8,
   "metadata": {
    "id": "GYK5hysFEtBU"
   },
   "outputs": [],
   "source": [
    "#sorting according to sum scores\n",
    "data = df.to_numpy()\n",
    "reference_vector = np.zeros(data[0].size)\n",
    "modified_data = sort_array_by_distance(data, reference_vector)"
   ]
  },
  {
   "cell_type": "code",
   "execution_count": 9,
   "metadata": {
    "id": "Co_VpJGmEztz"
   },
   "outputs": [],
   "source": [
    "#splitting the dataset into k parts\n",
    "k = 3\n",
    "split_indices = np.linspace(0, modified_data.shape[0], num=k+1, dtype=int)\n",
    "parts = np.split(modified_data, split_indices[1:-1])"
   ]
  },
  {
   "cell_type": "code",
   "execution_count": 10,
   "metadata": {
    "id": "XaLacqjHE3Op"
   },
   "outputs": [],
   "source": [
    "#calculating initial centroids\n",
    "cluster_centers = []\n",
    "for i, part in enumerate(parts):\n",
    "    size = part.shape[1]\n",
    "    arr = []\n",
    "    for j in range(size):\n",
    "      x = np.median(part[: , j])\n",
    "      arr.append(x)\n",
    "    cluster_centers.append(arr)\n",
    "cluster_centers = np.array(cluster_centers)"
   ]
  },
  {
   "cell_type": "code",
   "execution_count": 11,
   "metadata": {
    "id": "tsgFmuXDE55A"
   },
   "outputs": [],
   "source": [
    "centroids = pd.DataFrame(cluster_centers)\n",
    "centroids['cluster'] = range(k)"
   ]
  },
  {
   "cell_type": "code",
   "execution_count": 12,
   "metadata": {
    "id": "vVm-BbNBE9OQ"
   },
   "outputs": [],
   "source": [
    "new_df = pd.DataFrame(modified_data[:, :])\n",
    "new_df['cluster'] = 0\n",
    "c_arr=np.array(centroids)\n",
    "dt_arr=np.array(new_df)"
   ]
  },
  {
   "cell_type": "code",
   "execution_count": null,
   "metadata": {
    "id": "TcHTqJzLFA32"
   },
   "outputs": [],
   "source": [
    "for iteration in range (100):\n",
    "    for i in range(dt_arr.shape[0]):\n",
    "        dist=[]\n",
    "        for c in c_arr:\n",
    "            d=np.linalg.norm(dt_arr[i,:-1]-c[:-1])\n",
    "            dist.append(d)\n",
    "        clus=dist.index(np.min(dist))\n",
    "        dt_arr[i,-1]=clus\n",
    "\n",
    "    for c in range(k):\n",
    "        c_arr[c,:-1]=np.mean(dt_arr[dt_arr[:,-1]==c][:,:-1],axis=0)"
   ]
  },
  {
   "cell_type": "code",
   "execution_count": null,
   "metadata": {
    "id": "KnQTdUTkFF-R"
   },
   "outputs": [],
   "source": [
    "cluster_indices = dt_arr[ :,-1]"
   ]
  },
  {
   "cell_type": "code",
   "execution_count": null,
   "metadata": {
    "id": "3qlFyR31FLut"
   },
   "outputs": [],
   "source": [
    "from sklearn.metrics import silhouette_score\n",
    "from sklearn import metrics\n",
    "from sklearn.metrics import pairwise_distances"
   ]
  },
  {
   "cell_type": "code",
   "execution_count": 3,
   "metadata": {
    "colab": {
     "base_uri": "https://localhost:8080/"
    },
    "id": "2Lw1xG37HWGV",
    "outputId": "d600458d-0ef7-4450-f4f3-b090b40a986e"
   },
   "outputs": [
    {
     "ename": "NameError",
     "evalue": "name 'silhouette_score' is not defined",
     "output_type": "error",
     "traceback": [
      "\u001b[1;31m---------------------------------------------------------------------------\u001b[0m",
      "\u001b[1;31mNameError\u001b[0m                                 Traceback (most recent call last)",
      "Cell \u001b[1;32mIn[3], line 1\u001b[0m\n\u001b[1;32m----> 1\u001b[0m \u001b[38;5;28mprint\u001b[39m(\u001b[43msilhouette_score\u001b[49m(dt_arr[:,:\u001b[38;5;241m-\u001b[39m\u001b[38;5;241m1\u001b[39m],dt_arr[:,\u001b[38;5;241m-\u001b[39m\u001b[38;5;241m1\u001b[39m]))\n\u001b[0;32m      2\u001b[0m \u001b[38;5;28mprint\u001b[39m(metrics\u001b[38;5;241m.\u001b[39mcalinski_harabasz_score(dt_arr[:,:\u001b[38;5;241m-\u001b[39m\u001b[38;5;241m1\u001b[39m],dt_arr[:,\u001b[38;5;241m-\u001b[39m\u001b[38;5;241m1\u001b[39m]))\n\u001b[0;32m      3\u001b[0m \u001b[38;5;28mprint\u001b[39m(metrics\u001b[38;5;241m.\u001b[39mdavies_bouldin_score(dt_arr[:,:\u001b[38;5;241m-\u001b[39m\u001b[38;5;241m1\u001b[39m],dt_arr[:,\u001b[38;5;241m-\u001b[39m\u001b[38;5;241m1\u001b[39m]))\n",
      "\u001b[1;31mNameError\u001b[0m: name 'silhouette_score' is not defined"
     ]
    }
   ],
   "source": [
    "print(silhouette_score(dt_arr[:,:-1],dt_arr[:,-1]))\n",
    "print(metrics.calinski_harabasz_score(dt_arr[:,:-1],dt_arr[:,-1]))\n",
    "print(metrics.davies_bouldin_score(dt_arr[:,:-1],dt_arr[:,-1]))"
   ]
  },
  {
   "cell_type": "code",
   "execution_count": 4,
   "metadata": {
    "colab": {
     "base_uri": "https://localhost:8080/"
    },
    "id": "u9JQP1V8wa_m",
    "outputId": "9d2f6948-b4d4-4c0c-b52b-157396d96946"
   },
   "outputs": [
    {
     "ename": "NameError",
     "evalue": "name 'k' is not defined",
     "output_type": "error",
     "traceback": [
      "\u001b[1;31m---------------------------------------------------------------------------\u001b[0m",
      "\u001b[1;31mNameError\u001b[0m                                 Traceback (most recent call last)",
      "Cell \u001b[1;32mIn[4], line 3\u001b[0m\n\u001b[0;32m      1\u001b[0m \u001b[38;5;66;03m#sum squared error\u001b[39;00m\n\u001b[0;32m      2\u001b[0m sse \u001b[38;5;241m=\u001b[39m \u001b[38;5;241m0\u001b[39m\n\u001b[1;32m----> 3\u001b[0m \u001b[38;5;28;01mfor\u001b[39;00m i \u001b[38;5;129;01min\u001b[39;00m \u001b[38;5;28mrange\u001b[39m(\u001b[43mk\u001b[49m):\n\u001b[0;32m      4\u001b[0m   cluster_points \u001b[38;5;241m=\u001b[39m dt_arr[dt_arr[:,\u001b[38;5;241m-\u001b[39m\u001b[38;5;241m1\u001b[39m] \u001b[38;5;241m==\u001b[39m i][:,:\u001b[38;5;241m-\u001b[39m\u001b[38;5;241m1\u001b[39m]\n\u001b[0;32m      5\u001b[0m   cluster_center \u001b[38;5;241m=\u001b[39m c_arr[i]\n",
      "\u001b[1;31mNameError\u001b[0m: name 'k' is not defined"
     ]
    }
   ],
   "source": [
    "#sum squared error\n",
    "sse = 0\n",
    "for i in range(k):\n",
    "  cluster_points = dt_arr[dt_arr[:,-1] == i][:,:-1]\n",
    "  cluster_center = c_arr[i]\n",
    "  for j in range(cluster_points.shape[0]):\n",
    "    cluster_point = cluster_points[j]\n",
    "    x = np.linalg.norm(cluster_point - cluster_center[:-1])\n",
    "    sse += x**2\n",
    "print(sse)"
   ]
  },
  {
   "cell_type": "code",
   "execution_count": null,
   "metadata": {},
   "outputs": [],
   "source": []
  }
 ],
 "metadata": {
  "colab": {
   "provenance": []
  },
  "kernelspec": {
   "display_name": "Python 3 (ipykernel)",
   "language": "python",
   "name": "python3"
  },
  "language_info": {
   "codemirror_mode": {
    "name": "ipython",
    "version": 3
   },
   "file_extension": ".py",
   "mimetype": "text/x-python",
   "name": "python",
   "nbconvert_exporter": "python",
   "pygments_lexer": "ipython3",
   "version": "3.11.4"
  }
 },
 "nbformat": 4,
 "nbformat_minor": 4
}
