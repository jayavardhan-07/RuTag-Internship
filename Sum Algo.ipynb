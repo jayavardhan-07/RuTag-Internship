{
  "nbformat": 4,
  "nbformat_minor": 0,
  "metadata": {
    "colab": {
      "provenance": []
    },
    "kernelspec": {
      "name": "python3",
      "display_name": "Python 3"
    },
    "language_info": {
      "name": "python"
    }
  },
  "cells": [
    {
      "cell_type": "code",
      "execution_count": 173,
      "metadata": {
        "id": "JkQuIQtzETZU"
      },
      "outputs": [],
      "source": [
        "import pandas as pd\n",
        "import numpy as np"
      ]
    },
    {
      "cell_type": "code",
      "source": [
        "df = pd.read_csv('/content/wine.csv')"
      ],
      "metadata": {
        "id": "53tt6XmsEjNH"
      },
      "execution_count": 174,
      "outputs": []
    },
    {
      "cell_type": "code",
      "source": [
        "#sorting according to sum scores\n",
        "data = df.to_numpy()\n",
        "def avg(point):\n",
        "  list1 = []\n",
        "  for i in range(point.shape[0]):\n",
        "    list1.append(point[i])\n",
        "  return sum(list1)\n",
        "averages = np.apply_along_axis(avg, 1, data)\n",
        "sorted_indices = np.argsort(averages)\n",
        "modified_data = data[sorted_indices]"
      ],
      "metadata": {
        "id": "GYK5hysFEtBU"
      },
      "execution_count": 175,
      "outputs": []
    },
    {
      "cell_type": "code",
      "source": [
        "#splitting the dataset into k parts\n",
        "k = 3\n",
        "split_indices = np.linspace(0, modified_data.shape[0], num=k+1, dtype=int)\n",
        "parts = np.split(modified_data, split_indices[1:-1])"
      ],
      "metadata": {
        "id": "Co_VpJGmEztz"
      },
      "execution_count": 176,
      "outputs": []
    },
    {
      "cell_type": "code",
      "source": [
        "#calculating initial centroids\n",
        "cluster_centers = []\n",
        "for i, part in enumerate(parts):\n",
        "    size = part.shape[1]\n",
        "    arr = []\n",
        "    for j in range(size):\n",
        "      x = np.median(part[: , j])\n",
        "      arr.append(x)\n",
        "    cluster_centers.append(arr)\n",
        "cluster_centers = np.array(cluster_centers)"
      ],
      "metadata": {
        "id": "XaLacqjHE3Op"
      },
      "execution_count": 177,
      "outputs": []
    },
    {
      "cell_type": "code",
      "source": [
        "centroids = pd.DataFrame(cluster_centers)\n",
        "centroids['cluster'] = range(k)"
      ],
      "metadata": {
        "id": "tsgFmuXDE55A"
      },
      "execution_count": 178,
      "outputs": []
    },
    {
      "cell_type": "code",
      "source": [
        "new_df = pd.DataFrame(modified_data[:, :])\n",
        "new_df['cluster'] = 0\n",
        "c_arr=np.array(centroids)\n",
        "dt_arr=np.array(new_df)"
      ],
      "metadata": {
        "id": "vVm-BbNBE9OQ"
      },
      "execution_count": 179,
      "outputs": []
    },
    {
      "cell_type": "code",
      "source": [
        "for iteration in range (100):\n",
        "    for i in range(dt_arr.shape[0]):\n",
        "        dist=[]\n",
        "        for c in c_arr:\n",
        "            d=np.linalg.norm(dt_arr[i,:-1]-c[:-1])\n",
        "            dist.append(d)\n",
        "        clus=dist.index(np.min(dist))\n",
        "        dt_arr[i,-1]=clus\n",
        "\n",
        "    for c in range(k):\n",
        "        c_arr[c,:-1]=np.mean(dt_arr[dt_arr[:,-1]==c][:,:-1],axis=0)"
      ],
      "metadata": {
        "id": "TcHTqJzLFA32"
      },
      "execution_count": 180,
      "outputs": []
    },
    {
      "cell_type": "code",
      "source": [
        "cluster_indices = dt_arr[ :,-1]"
      ],
      "metadata": {
        "id": "KnQTdUTkFF-R"
      },
      "execution_count": 181,
      "outputs": []
    },
    {
      "cell_type": "code",
      "source": [
        "from sklearn.metrics import silhouette_score\n",
        "from sklearn import metrics\n",
        "from sklearn.metrics import pairwise_distances"
      ],
      "metadata": {
        "id": "3qlFyR31FLut"
      },
      "execution_count": 182,
      "outputs": []
    },
    {
      "cell_type": "code",
      "source": [
        "print(silhouette_score(dt_arr[:,:-1],dt_arr[:,-1]))\n",
        "print(metrics.calinski_harabasz_score(dt_arr[:,:-1],dt_arr[:,-1]))\n",
        "print(metrics.davies_bouldin_score(dt_arr[:,:-1],dt_arr[:,-1]))"
      ],
      "metadata": {
        "colab": {
          "base_uri": "https://localhost:8080/"
        },
        "id": "2Lw1xG37HWGV",
        "outputId": "b911957a-1eda-43b7-94d8-40b30d76553f"
      },
      "execution_count": 183,
      "outputs": [
        {
          "output_type": "stream",
          "name": "stdout",
          "text": [
            "0.5709784028530243\n",
            "559.6932245530587\n",
            "0.5336393583771107\n"
          ]
        }
      ]
    },
    {
      "cell_type": "code",
      "source": [
        "#sum squared error\n",
        "sse = 0\n",
        "for i in range(k):\n",
        "  cluster_points = dt_arr[dt_arr[:,-1] == i][:,:-1]\n",
        "  cluster_center = c_arr[i]\n",
        "  for j in range(cluster_points.shape[0]):\n",
        "    cluster_point = cluster_points[j]\n",
        "    x = np.linalg.norm(cluster_point - cluster_center[:-1])\n",
        "    sse += x**2\n",
        "print(sse)"
      ],
      "metadata": {
        "colab": {
          "base_uri": "https://localhost:8080/"
        },
        "id": "u9JQP1V8wa_m",
        "outputId": "0123f2ed-1dbf-4a37-c7d3-fb9218a3f91d"
      },
      "execution_count": 184,
      "outputs": [
        {
          "output_type": "stream",
          "name": "stdout",
          "text": [
            "2352907.766903644\n"
          ]
        }
      ]
    }
  ]
}